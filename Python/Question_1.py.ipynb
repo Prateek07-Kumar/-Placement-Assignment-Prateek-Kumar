{
 "cells": [
  {
   "cell_type": "markdown",
   "id": "2f36c8f3",
   "metadata": {},
   "source": [
    "```\n",
    "[Python]\n",
    "\n",
    "Question 1: -\n",
    "Write a program that takes a string as input, and counts the frequency of each word in the string, there might\n",
    "be repeated characters in the string. Your task is to find the highest frequency and returns the length of the\n",
    "highest-frequency word.\n",
    "\n",
    "Note - You have to write at least 2 additional test cases in which your program will run successfully and provide\n",
    "an explanation for the same.\n",
    "\n",
    "Example input - string = “write write write all the number from from from 1 to 100”\n",
    "Example output - 5\n",
    "\n",
    "Explanation - From the given string we can note that the most frequent words are “write” and “from” and\n",
    "the maximum value of both the values is “write” and its corresponding length is 5\n",
    "```"
   ]
  },
  {
   "cell_type": "markdown",
   "id": "165de7a2",
   "metadata": {},
   "source": [
    "```\n",
    "## Answer-1 [Python]\n",
    "```"
   ]
  },
  {
   "cell_type": "code",
   "execution_count": 2,
   "id": "32d39b12",
   "metadata": {},
   "outputs": [],
   "source": [
    "from collections import Counter\n",
    "\n",
    "\n",
    "def find_highest_frequency_word_length(input_string):\n",
    "    # Split the string into words\n",
    "    words = input_string.split()\n",
    "\n",
    "    # Count the frequency of each word\n",
    "    word_frequency = Counter(words)\n",
    "\n",
    "    # Find the highest frequency\n",
    "    max_frequency = max(word_frequency.values())\n",
    "\n",
    "    # Find the length of the highest-frequency word\n",
    "    highest_frequency_word_length = max(len(word) for word, freq in word_frequency.items() if freq == max_frequency)\n",
    "\n",
    "    return highest_frequency_word_length"
   ]
  },
  {
   "cell_type": "code",
   "execution_count": 3,
   "id": "d4ba876c",
   "metadata": {},
   "outputs": [
    {
     "name": "stdout",
     "output_type": "stream",
     "text": [
      "Length of the highest-frequency word in test case 1: 5\n"
     ]
    }
   ],
   "source": [
    "# Test case 1\n",
    "input_str1 = \"write write write all the number from from from 1 to 100\"\n",
    "result1 = find_highest_frequency_word_length(input_str1)\n",
    "print(\"Length of the highest-frequency word in test case 1:\", result1)\n"
   ]
  },
  {
   "cell_type": "code",
   "execution_count": 6,
   "id": "9255ee4f",
   "metadata": {},
   "outputs": [
    {
     "name": "stdout",
     "output_type": "stream",
     "text": [
      "Length of the highest-frequency word in test case 2: 6\n"
     ]
    }
   ],
   "source": [
    "# Test case 2\n",
    "input_str2 = \"apple mango mango cherry cherry cherry cherry\"\n",
    "result2 = find_highest_frequency_word_length(input_str2)\n",
    "print(\"Length of the highest-frequency word in test case 2:\", result2)"
   ]
  },
  {
   "cell_type": "code",
   "execution_count": 5,
   "id": "768ad889",
   "metadata": {},
   "outputs": [
    {
     "name": "stdout",
     "output_type": "stream",
     "text": [
      "Length of the highest-frequency word in test case 3: 8\n"
     ]
    }
   ],
   "source": [
    "# Test case 3\n",
    "input_str3 = \"this is a sample sentence with no repeated words\"\n",
    "result3 = find_highest_frequency_word_length(input_str3)\n",
    "print(\"Length of the highest-frequency word in test case 3:\", result3)"
   ]
  },
  {
   "cell_type": "markdown",
   "id": "2f3ef94c",
   "metadata": {},
   "source": [
    "```\n",
    "Explanation:\n",
    "\n",
    "Test case 1:\n",
    "\n",
    "The input string contains repeated words such as \"write\" and \"from\".\n",
    "The word \"write\" appears 3 times, while the word \"from\" appears 3 times as well.\n",
    "The maximum frequency is 3, which corresponds to the word \"write\".\n",
    "The length of the highest-frequency word \"write\" is 5.\n",
    "Therefore, the expected output is 5.\n",
    "\n",
    "\n",
    "Test case 2:\n",
    "\n",
    "The input string contains repeated words such as \"mango\" and \"cherry\".\n",
    "The word \"mango\" appears 2 times, while the word \"cherry\" appears 4 times.\n",
    "The maximum frequency is 4, which corresponds to the word \"cherry\".\n",
    "The length of the highest-frequency word \"cherry\" is 6.\n",
    "Therefore, the expected output is 6.\n",
    "\n",
    "Test case 3:\n",
    "\n",
    "The input string does not have any repeated words.\n",
    "Each word appears only once.\n",
    "Therefore, the maximum frequency is 1, and the length of the highest-frequency word is determined by the length of any word in the input string.\n",
    "In this case, we can choose any word, and the program will return its length.\n",
    "Therefore, the expected output can vary depending on the specific word chosen from the input string.\n",
    "```"
   ]
  },
  {
   "cell_type": "code",
   "execution_count": null,
   "id": "0c096da8",
   "metadata": {},
   "outputs": [],
   "source": []
  }
 ],
 "metadata": {
  "kernelspec": {
   "display_name": "Python 3 (ipykernel)",
   "language": "python",
   "name": "python3"
  },
  "language_info": {
   "codemirror_mode": {
    "name": "ipython",
    "version": 3
   },
   "file_extension": ".py",
   "mimetype": "text/x-python",
   "name": "python",
   "nbconvert_exporter": "python",
   "pygments_lexer": "ipython3",
   "version": "3.9.7"
  }
 },
 "nbformat": 4,
 "nbformat_minor": 5
}
