{
 "cells": [
  {
   "cell_type": "markdown",
   "id": "db64cf9b",
   "metadata": {},
   "source": [
    "```\n",
    "\n",
    "'''\n",
    "[Python]\n",
    "\n",
    "Question 4 -\n",
    "\n",
    "Write a program to download the data from the link given below and then read the data and convert the into\n",
    "the proper structure and return it as a CSV file.\n",
    "\n",
    "Link - https://data.nasa.gov/resource/y77d-th95.json\n",
    "\n",
    "Note - Write code comments wherever needed for code understanding.\n",
    "\n",
    "'''\n",
    "\n",
    "\n",
    "## Answer-4 [Python] :-\n",
    "\n",
    "import requests\n",
    "\n",
    "import pandas as pd\n",
    "\n",
    "# Downloading the data from the provided link\n",
    "url = \"https://data.nasa.gov/resource/y77d-th95.json\"\n",
    "response = requests.get(url)\n",
    "\n",
    "# Converting the data into a pandas dataframe\n",
    "df = pd.read_json(response.content)\n",
    "\n",
    "# Saving the dataframe to a CSV file\n",
    "df.to_csv(\"nasa_data.csv\", index=False)\n",
    "\n",
    "print(\"Data saved to nasa_data.csv\")\n",
    "\n",
    "\n",
    "'''\n",
    "This code downloads the data from the provided link using the requests library.\n",
    "It then converts the data into a pandas dataframe using the read_json() function.\n",
    "Finally, it saves the dataframe to a CSV file using the to_csv() function.\n",
    "\n",
    "'''\n",
    "```"
   ]
  },
  {
   "cell_type": "code",
   "execution_count": null,
   "id": "2f306882",
   "metadata": {},
   "outputs": [],
   "source": []
  }
 ],
 "metadata": {
  "kernelspec": {
   "display_name": "Python 3 (ipykernel)",
   "language": "python",
   "name": "python3"
  },
  "language_info": {
   "codemirror_mode": {
    "name": "ipython",
    "version": 3
   },
   "file_extension": ".py",
   "mimetype": "text/x-python",
   "name": "python",
   "nbconvert_exporter": "python",
   "pygments_lexer": "ipython3",
   "version": "3.9.7"
  }
 },
 "nbformat": 4,
 "nbformat_minor": 5
}
