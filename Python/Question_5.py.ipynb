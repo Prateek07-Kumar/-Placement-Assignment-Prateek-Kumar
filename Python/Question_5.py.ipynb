{
 "cells": [
  {
   "cell_type": "markdown",
   "id": "6f36cb8f",
   "metadata": {},
   "source": [
    "```\n",
    "\n",
    "'''\n",
    "[Python]\n",
    "\n",
    "Question 5 -\n",
    "\n",
    "Write a program to download the data from the given API link and then extract the following data with\n",
    "proper formatting\n",
    "\n",
    "Link - http://api.tvmaze.com/singlesearch/shows?q=westworld&embed=episodes\n",
    "\n",
    "Note - Write proper code comments wherever needed for the code understanding\n",
    "'''\n",
    "\n",
    "\n",
    "## Answer-5 [Python] :-\n",
    "\n",
    "import requests\n",
    "\n",
    "# Downloading the data from the provided link\n",
    "url = \"http://api.tvmaze.com/singlesearch/shows?q=westworld&embed=episodes\"\n",
    "response = requests.get(url)\n",
    "\n",
    "# Extracting the required data\n",
    "data = response.json()\n",
    "show_name = data[\"name\"]\n",
    "show_type = data[\"type\"]\n",
    "show_language = data[\"language\"]\n",
    "show_genres = \", \".join(data[\"genres\"])\n",
    "show_status = data[\"status\"]\n",
    "show_runtime = data[\"runtime\"]\n",
    "show_summary = data[\"summary\"].replace(\"<p>\", \"\").replace(\"</p>\", \"\").replace(\"<b>\", \"\").replace(\"</b>\", \"\")\n",
    "\n",
    "print(\"Show Name:\", show_name)\n",
    "print(\"Show Type:\", show_type)\n",
    "print(\"Show Language:\", show_language)\n",
    "print(\"Show Genres:\", show_genres)\n",
    "print(\"Show Status:\", show_status)\n",
    "print(\"Show Runtime:\", show_runtime)\n",
    "print(\"Show Summary:\", show_summary)\n",
    "\n",
    "\n",
    "'''\n",
    "Explanation :- This code downloads the data from the provided link using the requests library.\n",
    "It then extracts the required data from the JSON response and formats it as required.\n",
    "\n",
    "'''\n",
    "```"
   ]
  },
  {
   "cell_type": "code",
   "execution_count": null,
   "id": "911feedb",
   "metadata": {},
   "outputs": [],
   "source": []
  }
 ],
 "metadata": {
  "kernelspec": {
   "display_name": "Python 3 (ipykernel)",
   "language": "python",
   "name": "python3"
  },
  "language_info": {
   "codemirror_mode": {
    "name": "ipython",
    "version": 3
   },
   "file_extension": ".py",
   "mimetype": "text/x-python",
   "name": "python",
   "nbconvert_exporter": "python",
   "pygments_lexer": "ipython3",
   "version": "3.9.7"
  }
 },
 "nbformat": 4,
 "nbformat_minor": 5
}
