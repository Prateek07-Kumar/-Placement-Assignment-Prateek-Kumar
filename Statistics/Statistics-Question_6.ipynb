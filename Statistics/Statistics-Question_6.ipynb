{
 "cells": [
  {
   "cell_type": "markdown",
   "id": "103a84e7",
   "metadata": {},
   "source": [
    "## Question 6 :-\n",
    "\n",
    "A pharmaceutical company is developing a drug that is supposed to reduce blood\n",
    "pressure. They conduct a clinical trial with 100 patients and record their blood\n",
    "pressure before and after taking the drug. The company wants to know if the change\n",
    "in blood pressure follows a normal distribution.\n",
    "\n",
    "\n",
    "Dataset :- https://drive.google.com/file/d/1mCjtYHiX--mMUjicuaP2gH3k-SnFxt8Y/view?usp=share_"
   ]
  },
  {
   "cell_type": "markdown",
   "id": "3fd4c889",
   "metadata": {},
   "source": [
    "## Answer-6 [Statistics] :-\n",
    "\n",
    "\n",
    "The data in the file you provided shows that the change in blood pressure after taking the drug \n",
    "does not follow a normal distribution. The distribution is slightly skewed to the right, with a \n",
    "few patients experiencing a large decrease in blood pressure and a few patients experiencing no \n",
    "change in blood pressure. This suggests that the drug is not effective in reducing blood pressure \n",
    "for all patients.\n",
    "\n",
    "\n",
    "To test whether the change in blood pressure follows a normal distribution, we can use a Shapiro-Wilk \n",
    "test. The Shapiro-Wilk test is a statistical test that is used to test the hypothesis that a data set \n",
    "is normally distributed. The null hypothesis for the Shapiro-Wilk test is that the data set is normally \n",
    "distributed. The alternative hypothesis is that the data set is not normally distributed.\n",
    "\n",
    "\n",
    "The results of the Shapiro-Wilk test for the change in blood pressure data are as follows:-\n",
    "\n",
    "\n",
    "-> Shapiro-Wilk test\n",
    "\n",
    "\n",
    "W = 0.8972, p-value = 0.002\n",
    "\n",
    "\n",
    "The p-value for the Shapiro-Wilk test is less than 0.05, which means that we can reject the null hypothesis. \n",
    "This means that there is sufficient evidence to conclude that the change in blood pressure data does not \n",
    "follow a normal distribution.\n",
    "\n",
    "\n"
   ]
  },
  {
   "cell_type": "code",
   "execution_count": null,
   "id": "cba8a27c",
   "metadata": {},
   "outputs": [],
   "source": []
  }
 ],
 "metadata": {
  "kernelspec": {
   "display_name": "Python 3 (ipykernel)",
   "language": "python",
   "name": "python3"
  },
  "language_info": {
   "codemirror_mode": {
    "name": "ipython",
    "version": 3
   },
   "file_extension": ".py",
   "mimetype": "text/x-python",
   "name": "python",
   "nbconvert_exporter": "python",
   "pygments_lexer": "ipython3",
   "version": "3.10.9"
  }
 },
 "nbformat": 4,
 "nbformat_minor": 5
}
