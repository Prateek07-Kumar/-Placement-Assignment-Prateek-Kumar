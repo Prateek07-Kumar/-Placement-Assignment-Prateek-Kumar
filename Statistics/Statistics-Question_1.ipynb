{
 "cells": [
  {
   "cell_type": "markdown",
   "id": "cb1f1620",
   "metadata": {},
   "source": [
    "\n",
    "## Question 1:-\n",
    "\n",
    "A university wants to understand the relationship between the SAT scores of its\n",
    "applicants and their college GPA. They collect data on 500 students, including their SAT\n",
    "scores (out of 1600) and their college GPA (on a 4.0 scale). They find that the correlation\n",
    "coefficient between SAT scores and college GPA is 0.7. What does this correlation\n",
    "coefficient indicate about the relationship between SAT scores and college GPA?\n",
    "\n",
    "\n",
    "\n",
    "\n",
    "\n",
    "\n",
    "## Answer-1 [Statistics] :-\n",
    "\n",
    "A correlation coefficient of 0.7 indicates a strong positive relationship between SAT scores and college GPA.\n",
    "This means that there is a significant tendency for students with higher SAT scores to have higher college \n",
    "GPAs, and vice versa. The correlation coefficient ranges from -1 to 1, with 0 indicating no correlation, \n",
    "-1 indicating a perfect negative correlation, and 1 indicating a perfect positive correlation. In this case,\n",
    "a correlation coefficient of 0.7 suggests a relatively strong positive relationship between SAT scores and \n",
    "college GPA. It's important to note that correlation does not imply causation. While a strong positive \n",
    "correlation suggests that higher SAT scores are associated with higher college GPAs, it does not necessarily\n",
    "mean that high SAT scores cause high GPAs. Other factors, such as study habits, motivation, and personal\n",
    "circumstances, can also influence college performance."
   ]
  },
  {
   "cell_type": "code",
   "execution_count": null,
   "id": "17b57f49",
   "metadata": {},
   "outputs": [],
   "source": []
  }
 ],
 "metadata": {
  "kernelspec": {
   "display_name": "Python 3 (ipykernel)",
   "language": "python",
   "name": "python3"
  },
  "language_info": {
   "codemirror_mode": {
    "name": "ipython",
    "version": 3
   },
   "file_extension": ".py",
   "mimetype": "text/x-python",
   "name": "python",
   "nbconvert_exporter": "python",
   "pygments_lexer": "ipython3",
   "version": "3.10.9"
  }
 },
 "nbformat": 4,
 "nbformat_minor": 5
}
