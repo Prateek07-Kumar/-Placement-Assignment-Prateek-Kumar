{
 "cells": [
  {
   "cell_type": "markdown",
   "id": "a7f03274",
   "metadata": {},
   "source": [
    "## Question 5 :-\n",
    "\n",
    "\n",
    "A certain city has two taxi companies: Company A has 80% of the taxis and\n",
    "Company B has 20% of the taxis. Company A's taxis have a 95% success rate for picking\n",
    "up passengers on time, while Company B's taxis have a 90% success rate. If a randomly\n",
    "selected taxi is late, what is the probability that it belongs to Company A?"
   ]
  },
  {
   "cell_type": "markdown",
   "id": "92bf529d",
   "metadata": {},
   "source": [
    "## Answer-5 [Statistics] :-\n",
    "\n",
    "Let's say there are 100 taxis in the city. 80 of them are from Company A and 20 are from Company B.\n",
    "\n",
    "The probability that a randomly selected taxi is from Company A is 80/100 = 0.8\n",
    "\n",
    "The probability that a randomly selected taxi is from Company B is 20/100 = 0.2\n",
    "\n",
    "The probability that a taxi from Company A is late is 5/100 = 0.05\n",
    "\n",
    "The probability that a taxi from Company B is late is 10/100 = 0.1\n",
    "\n",
    "The probability that a randomly selected taxi is late and from Company A is 0.8 * 0.05 = 0.04\n",
    "\n",
    "The probability that a randomly selected taxi is late and from Company B is 0.2 * 0.1 = 0.02\n",
    "\n",
    "The probability that a randomly selected late taxi is from Company A is 0.04 / (0.04 + 0.02) = 4/6 = 2/3\n",
    "\n",
    "So the answer is 2/3 or approximately 0.6667.\n"
   ]
  },
  {
   "cell_type": "code",
   "execution_count": null,
   "id": "9a31f71e",
   "metadata": {},
   "outputs": [],
   "source": []
  }
 ],
 "metadata": {
  "kernelspec": {
   "display_name": "Python 3 (ipykernel)",
   "language": "python",
   "name": "python3"
  },
  "language_info": {
   "codemirror_mode": {
    "name": "ipython",
    "version": 3
   },
   "file_extension": ".py",
   "mimetype": "text/x-python",
   "name": "python",
   "nbconvert_exporter": "python",
   "pygments_lexer": "ipython3",
   "version": "3.10.9"
  }
 },
 "nbformat": 4,
 "nbformat_minor": 5
}
