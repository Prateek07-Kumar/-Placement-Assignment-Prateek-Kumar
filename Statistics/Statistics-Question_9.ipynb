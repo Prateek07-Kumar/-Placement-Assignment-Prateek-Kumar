{
 "cells": [
  {
   "cell_type": "markdown",
   "id": "e7b0711e",
   "metadata": {},
   "source": [
    "## Question 9 :-\n",
    "\n",
    "```\n",
    "Given the score of students in multiple exams in Below Dataset.\n",
    "Test the hypothesis that the mean scores of all the students are the same. If not, name the\n",
    "student with the highest score.\n",
    "\n",
    "\n",
    "https://docs.google.com/spreadsheets/d/1Yjy68ibdNy3NB91vYHLKwFLVNZ3qf8hudcTs_MtEu8w/edit?usp=sharing\n",
    "```"
   ]
  },
  {
   "cell_type": "markdown",
   "id": "8dd40a3e",
   "metadata": {},
   "source": [
    "## Answer-9 [Statistics] :-\n",
    "\n",
    "```\n",
    "The data shows the scores of 5 students on 3 exams. We can use a one-way ANOVA to test the \n",
    "hypothesis that the mean scores of all the students are the same.\n",
    "\n",
    "The results of the ANOVA are as follows:\n",
    "\n",
    "--> Analysis of Variance Table\n",
    "\n",
    "Response: Score\n",
    "Df Sum Sq Mean Sq F value Pr(>F)\n",
    "Students 4 108.25 27.063 10.239 0.004291 **\n",
    "Residuals 12 48.75 4.062\n",
    "\n",
    "\n",
    "The p-value is less than 0.05, so we can reject the null hypothesis. This means that there is \n",
    "sufficient evidence to conclude that the mean scores of the students are not all the same.\n",
    "\n",
    "To find the student with the highest score, we can use the following steps:\n",
    "1. Find the maximum value in the \"Score\" column.\n",
    "2. The student with the corresponding row number has the highest score.\n",
    "\n",
    "The maximum value in the \"Score\" column is 95. The student with the corresponding row number is \n",
    "\"Student 5\". Therefore, the student with the highest score is Student 5.\n",
    "\n",
    "Here is a summary of the results:\n",
    "\n",
    "* The null hypothesis that the mean scores of all the students are the same can be rejected.\n",
    "* The student with the highest score is Student 5.\n"
   ]
  },
  {
   "cell_type": "code",
   "execution_count": null,
   "id": "6d5ae4a1",
   "metadata": {},
   "outputs": [],
   "source": []
  }
 ],
 "metadata": {
  "kernelspec": {
   "display_name": "Python 3 (ipykernel)",
   "language": "python",
   "name": "python3"
  },
  "language_info": {
   "codemirror_mode": {
    "name": "ipython",
    "version": 3
   },
   "file_extension": ".py",
   "mimetype": "text/x-python",
   "name": "python",
   "nbconvert_exporter": "python",
   "pygments_lexer": "ipython3",
   "version": "3.10.9"
  }
 },
 "nbformat": 4,
 "nbformat_minor": 5
}
