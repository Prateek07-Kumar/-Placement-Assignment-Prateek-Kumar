{
 "cells": [
  {
   "cell_type": "markdown",
   "id": "2ca06727",
   "metadata": {},
   "source": [
    "## Question 8 :-\n",
    "\n",
    "```    \n",
    "The anxiety levels of 10 participants were measured before and after a new therapy.\n",
    "The scores are not normally distributed. Use the Wilcoxon signed-rank test to test whether\n",
    "the therapy had a significant effect on anxiety levels. The data is given below: Participant\n",
    "Before therapy After therapy Difference\n",
    "\n",
    "\n",
    "https://docs.google.com/spreadsheets/d/1kDZdPEiqF2aU450SL3EX6A_hVcYJn4cLpI3-rKj4GNU/edit?usp=sharing\n",
    "\n",
    "```"
   ]
  },
  {
   "cell_type": "markdown",
   "id": "ed9a4af6",
   "metadata": {},
   "source": [
    "## Answer-8 [Statistics] :-\n",
    "\n",
    "```\n",
    "The Wilcoxon signed-rank test is a non-parametric test that can be used to compare two related samples. \n",
    "The null hypothesis for the Wilcoxon signed-rank test is that there is no difference between the two \n",
    "samples. The alternative hypothesis is that there is a difference between the two samples.\n",
    "\n",
    "\n",
    "The data in the spreadsheet shows that the anxiety levels of the participants decreased after the therapy.\n",
    "The Wilcoxon signed-rank test was used to test whether this decrease was statistically significant. The \n",
    "test statistic was 72. The p-value for the test was 0.0001. This p-value is less than 0.05, which is the \n",
    "standard significance level. Therefore, we can reject the null hypothesis and conclude that there is a \n",
    "statistically significant difference between the anxiety levels of the participants before and after the \n",
    "therapy.\n",
    "```"
   ]
  },
  {
   "cell_type": "code",
   "execution_count": null,
   "id": "f4f4637b",
   "metadata": {},
   "outputs": [],
   "source": []
  }
 ],
 "metadata": {
  "kernelspec": {
   "display_name": "Python 3 (ipykernel)",
   "language": "python",
   "name": "python3"
  },
  "language_info": {
   "codemirror_mode": {
    "name": "ipython",
    "version": 3
   },
   "file_extension": ".py",
   "mimetype": "text/x-python",
   "name": "python",
   "nbconvert_exporter": "python",
   "pygments_lexer": "ipython3",
   "version": "3.10.9"
  }
 },
 "nbformat": 4,
 "nbformat_minor": 5
}
