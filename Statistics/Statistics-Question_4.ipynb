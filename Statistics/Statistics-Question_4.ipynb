{
 "cells": [
  {
   "cell_type": "markdown",
   "id": "d3ab96ce",
   "metadata": {},
   "source": [
    "## Question 4 :-\n",
    "\n",
    "A group of 20 friends decide to play a game in which they each write a number\n",
    "between 1 and 20 on a slip of paper and put it into a hat. They then draw one slip of paper\n",
    "at random. What is the probability that the number on the slip of paper is a perfect square\n",
    "(i.e., 1, 4, 9, or 16)?"
   ]
  },
  {
   "cell_type": "markdown",
   "id": "5d8b4280",
   "metadata": {},
   "source": [
    "## Answer-4 [Statistics] :-\n",
    "\n",
    "To determine the probability that the number drawn from the hat is a perfect square, we need \n",
    "to calculate the number of favorable outcomes (slips with perfect square numbers) and the total \n",
    "number of possible outcomes (total number of slips).\n",
    "\n",
    "The favorable outcomes are the numbers 1, 4, 9, and 16, which means there are 4 favorable outcomes.\n",
    "\n",
    "The total number of possible outcomes is equal to the total number of slips, which is 20.\n",
    "\n",
    "\n",
    "Therefore, the probability of drawing a slip with a perfect square number is:\n",
    "\n",
    "Probability = Favorable outcomes / Total outcomes\n",
    "Probability = 4 / 20\n",
    "\n",
    "Probability = 1 / 5\n",
    "\n",
    "\n",
    "So, the probability that the number on the slip of paper is a perfect square is 1/5 or 0.2, which can \n",
    "also be expressed as a 20% chance."
   ]
  },
  {
   "cell_type": "code",
   "execution_count": null,
   "id": "2b2834f4",
   "metadata": {},
   "outputs": [],
   "source": []
  }
 ],
 "metadata": {
  "kernelspec": {
   "display_name": "Python 3 (ipykernel)",
   "language": "python",
   "name": "python3"
  },
  "language_info": {
   "codemirror_mode": {
    "name": "ipython",
    "version": 3
   },
   "file_extension": ".py",
   "mimetype": "text/x-python",
   "name": "python",
   "nbconvert_exporter": "python",
   "pygments_lexer": "ipython3",
   "version": "3.10.9"
  }
 },
 "nbformat": 4,
 "nbformat_minor": 5
}
