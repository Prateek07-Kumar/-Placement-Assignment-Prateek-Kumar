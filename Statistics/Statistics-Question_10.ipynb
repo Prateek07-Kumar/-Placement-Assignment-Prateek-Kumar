{
 "cells": [
  {
   "cell_type": "markdown",
   "id": "72546cdd",
   "metadata": {},
   "source": [
    "## Question 10 :-\n",
    "\n",
    "```\n",
    "A factory produces light bulbs, and the probability of a bulb being defective is 0.05.\n",
    "\n",
    "The factory produces a large batch of 500 light bulbs.\n",
    "\n",
    "a. What is the probability that exactly 20 bulbs are defective?\n",
    "\n",
    "b. What is the probability that at least 10 bulbs are defective?\n",
    "\n",
    "c. What is the probability that at max 15 bulbs are defective?\n",
    "\n",
    "d. On average, how many defective bulbs would you expect in a batch of 500?\n",
    "```"
   ]
  },
  {
   "cell_type": "markdown",
   "id": "166d69e0",
   "metadata": {},
   "source": [
    "# Answer-10 [Statistics] :-\n",
    "\n",
    "```\n",
    "To solve these problems, we can use the binomial distribution, which models the probability of a certain \n",
    "number of successes (defective bulbs) in a fixed number of independent trials (total bulbs produced).\n",
    "\n",
    "The binomial distribution is defined by two parameters: the number of trials (n) and the probability of \n",
    "success (p).\n",
    "\n",
    "Ans-a)\n",
    "\n",
    "The probability that exactly 20 bulbs are defective can be calculated using the binomial distribution formula:\n",
    "\n",
    "P(X = k) = (n C k) * p^k * (1 - p)^(n - k)\n",
    "\n",
    "where:\n",
    "- n is the number of trials (500 bulbs)\n",
    "- k is the number of successes (20 defective bulbs)\n",
    "- p is the probability of success (0.05, probability of a bulb being defective)\n",
    "- (n C k) is the number of combinations of n items taken k at a time\n",
    "\n",
    "Using this formula, we can calculate:\n",
    "\n",
    "P(X = 20) = (500 C 20) * (0.05^20) * (1 - 0.05)^(500 - 20) is Approx. 0.0355\n",
    "\n",
    "\n",
    "\n",
    "Ans-b) \n",
    "\n",
    "The probability that at least 10 bulbs are defective can be calculated by summing the probabilities \n",
    "of having 10, 11, 12, ..., up to 500 defective bulbs. We can subtract the probability of having fewer \n",
    "than 10 defective bulbs from 1:\n",
    "\n",
    "P(X >= 10) = 1 - P(X < 10)\n",
    "\n",
    "To calculate P(X < 10), we sum the probabilities of having 0, 1, 2, ..., up to 9 defective bulbs.\n",
    "\n",
    "\n",
    "Ans-c) \n",
    "\n",
    "The probability that at most 15 bulbs are defective can be calculated by summing the probabilities of \n",
    "having 0, 1, 2, ..., up to 15 defective bulbs:\n",
    "\n",
    "P(X <= 15) = P(X = 0) + P(X = 1) + P(X = 2) + ... + P(X = 15) is Approx. 0.9999\n",
    "\n",
    "\n",
    "Ans-d)  \n",
    "\n",
    "The average number of defective bulbs can be calculated using the formula for the mean of a binomial \n",
    "distribution:\n",
    "\n",
    "mean = n * p\n",
    "\n",
    "Substituting the values:\n",
    "mean = 500 * 0.05 = 25\n",
    "```\n"
   ]
  },
  {
   "cell_type": "code",
   "execution_count": null,
   "id": "a3b4b324",
   "metadata": {},
   "outputs": [],
   "source": []
  }
 ],
 "metadata": {
  "kernelspec": {
   "display_name": "Python 3 (ipykernel)",
   "language": "python",
   "name": "python3"
  },
  "language_info": {
   "codemirror_mode": {
    "name": "ipython",
    "version": 3
   },
   "file_extension": ".py",
   "mimetype": "text/x-python",
   "name": "python",
   "nbconvert_exporter": "python",
   "pygments_lexer": "ipython3",
   "version": "3.10.9"
  }
 },
 "nbformat": 4,
 "nbformat_minor": 5
}
