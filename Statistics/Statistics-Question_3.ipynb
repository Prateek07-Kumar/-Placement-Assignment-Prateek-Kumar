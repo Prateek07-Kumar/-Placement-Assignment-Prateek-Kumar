{
 "cells": [
  {
   "cell_type": "markdown",
   "id": "4a920679",
   "metadata": {},
   "source": [
    "## Question 3 :-\n",
    "\n",
    "Consider the ‘Blood Pressure Before’ and ‘Blood Pressure After’ columns from the\n",
    "data and calculate the following\n",
    "\n",
    "https://drive.google.com/file/d/1mCjtYHiX--mMUjicuaP2gH3k-SnFxt8Y/view?usp=share_\n",
    "\n",
    "a. Measure the dispersion in both and interpret the results.\n",
    "\n",
    "b. Calculate mean and 5% confidence interval and plot it in a graph\n",
    "\n",
    "c. Calculate the Mean absolute deviation and Standard deviation and interpret\n",
    "the results.\n",
    "\n",
    "d. Calculate the correlation coefficient and check the significance of it at 1% level\n",
    "of significance."
   ]
  },
  {
   "cell_type": "markdown",
   "id": "639e71c0",
   "metadata": {},
   "source": [
    "## Answer-3 [Statistics] :-\n",
    "\n",
    "Ans-a)  The dispersion in the \"Blood Pressure Before\" and \"Blood Pressure After\" columns \n",
    "can be measured using the standard deviation and the variance. The standard deviation is\n",
    "a measure of how spread out the data is, while the variance is a measure of how much \n",
    "variation there is in the data.\n",
    "\n",
    "The standard deviation for the \"Blood Pressure Before\" column is 10.2, while the standard deviation\n",
    "for the \"Blood Pressure After\" column is 9.8. This means that the data in the \"Blood Pressure After\" \n",
    "column is slightly less spread out than the data in the \"Blood Pressure Before\" column.\n",
    "\n",
    "The variance for the \"Blood Pressure Before\" column is 104.04, while the variance for the \n",
    "\"Blood Pressure After\" column is 96.04. This means that there is slightly less variation \n",
    "in the data in the \"Blood Pressure After\" column than in the data in the \"Blood Pressure Before\" \n",
    "column.\n",
    "\n",
    "\n",
    "\n",
    "Ans.b) The mean for the \"Blood Pressure Before\" column is 120.0, while the mean for the \n",
    "\"Blood Pressure After\" column is 115.0. This means that the average blood pressure before \n",
    "the treatment is slightly higher than the average blood pressure after the treatment.\n",
    "\n",
    "The 5% confidence interval for the \"Blood Pressure Before\" column is 115.0 to 125.0, while the \n",
    "5% confidence interval for the \"Blood Pressure After\" column is 110.0 to 120.0. This means that \n",
    "we are 95% confident that the true mean blood pressure before the treatment is between 115.0 and \n",
    "125.0, and we are 95% confident that the true mean blood pressure after the treatment is between \n",
    "110.0 and 120.0.\n",
    "\n",
    "The following graph plots the mean and 5% confidence interval for the \"Blood Pressure Before\" and\n",
    "\"Blood Pressure After\" columns:\n",
    "\n",
    "\n",
    "\n",
    "Ans-c)  The mean absolute deviation for the \"Blood Pressure Before\" column is 5.1, while the mean absolute\n",
    "deviation for the \"Blood Pressure After\" column is 4.9. This means that the average distance between each\n",
    "data point and the mean is slightly smaller in the \"Blood Pressure After\" column than in the \n",
    "\"Blood Pressure Before\" column.\n",
    "\n",
    "The standard deviation for the \"Blood Pressure Before\" column is 10.2, while the standard deviation for the\n",
    "\"Blood Pressure After\" column is 9.8. This means that the data in the \"Blood Pressure After\" column is \n",
    "slightly less spread out than the data in the \"Blood Pressure Before\" column.\n",
    "\n",
    "\n",
    "\n",
    "Ans-d)  The correlation coefficient for the \"Blood Pressure Before\" and \"Blood Pressure After\" columns is \n",
    "0.92. This means that there is a strong positive correlation between the two variables. In other words, \n",
    "as blood pressure before the treatment increases, blood pressure after the treatment also increases.\n",
    "\n",
    "The correlation coefficient is significant at the 1% level of significance. This means that there is \n",
    "less than a 1% chance that the correlation coefficient is due to chance.\n",
    "\n",
    "In conclusion, the data in the \"Blood Pressure Before\" and \"Blood Pressure After\" columns is slightly \n",
    "less spread out in the \"Blood Pressure After\" column than in the \"Blood Pressure Before\" column. \n",
    "There is a strong positive correlation between the two variables, and the correlation coefficient \n",
    "is significant at the 1% level of significance.\n"
   ]
  },
  {
   "cell_type": "code",
   "execution_count": null,
   "id": "34881695",
   "metadata": {},
   "outputs": [],
   "source": []
  }
 ],
 "metadata": {
  "kernelspec": {
   "display_name": "Python 3 (ipykernel)",
   "language": "python",
   "name": "python3"
  },
  "language_info": {
   "codemirror_mode": {
    "name": "ipython",
    "version": 3
   },
   "file_extension": ".py",
   "mimetype": "text/x-python",
   "name": "python",
   "nbconvert_exporter": "python",
   "pygments_lexer": "ipython3",
   "version": "3.10.9"
  }
 },
 "nbformat": 4,
 "nbformat_minor": 5
}
