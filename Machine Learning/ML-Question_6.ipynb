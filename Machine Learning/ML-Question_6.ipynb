{
 "cells": [
  {
   "cell_type": "markdown",
   "id": "36102606",
   "metadata": {},
   "source": [
    "## Problem Statement :-\n",
    "\n",
    "### Question-6 :-\n",
    "\n",
    "Imagine you have a dataset where you have predicted loan Eligibility using any 4 different classification algorithms. Now you have to build a model which can predict loan Eligibility and you need to find the accuracy of the model and built-in docker and use some library to display that in frontend\n",
    "\n",
    "Dataset :- Dataset is not avalable for this question"
   ]
  },
  {
   "cell_type": "markdown",
   "id": "ae14e564",
   "metadata": {},
   "source": [
    "## NOTE :-\n",
    "\n",
    "#### Dataset link is not Available for this question, due to Private DataSource Mode is Enable, So, Can't Able to solve this Problem"
   ]
  },
  {
   "cell_type": "code",
   "execution_count": null,
   "id": "1742c6a5",
   "metadata": {},
   "outputs": [],
   "source": []
  }
 ],
 "metadata": {
  "kernelspec": {
   "display_name": "Python 3 (ipykernel)",
   "language": "python",
   "name": "python3"
  },
  "language_info": {
   "codemirror_mode": {
    "name": "ipython",
    "version": 3
   },
   "file_extension": ".py",
   "mimetype": "text/x-python",
   "name": "python",
   "nbconvert_exporter": "python",
   "pygments_lexer": "ipython3",
   "version": "3.10.9"
  }
 },
 "nbformat": 4,
 "nbformat_minor": 5
}
