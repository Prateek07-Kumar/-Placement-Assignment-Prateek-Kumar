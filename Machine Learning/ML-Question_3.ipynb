{
 "cells": [
  {
   "cell_type": "markdown",
   "id": "397945c4",
   "metadata": {},
   "source": [
    "## Machine Learning\n",
    "\n",
    "### Problem Statement:-\n",
    "\n",
    "Question-3\n",
    "\n",
    "Imagine you have a dataset where you have different categories of data, Now you need to find the most similar data to the given data by using any 4 different similarity algorithms. Now you have to build a model which can find the most similar data to the given data."
   ]
  },
  {
   "cell_type": "code",
   "execution_count": 1,
   "id": "f007d7a0",
   "metadata": {},
   "outputs": [],
   "source": [
    "## Import the necessary libraries:-\n",
    "import pandas as pd\n",
    "from sklearn.feature_extraction.text import TfidfVectorizer\n",
    "from sklearn.metrics.pairwise import cosine_similarity, euclidean_distances, manhattan_distances"
   ]
  },
  {
   "cell_type": "code",
   "execution_count": 11,
   "id": "ff96709f",
   "metadata": {},
   "outputs": [
    {
     "data": {
      "text/html": [
       "<div>\n",
       "<style scoped>\n",
       "    .dataframe tbody tr th:only-of-type {\n",
       "        vertical-align: middle;\n",
       "    }\n",
       "\n",
       "    .dataframe tbody tr th {\n",
       "        vertical-align: top;\n",
       "    }\n",
       "\n",
       "    .dataframe thead th {\n",
       "        text-align: right;\n",
       "    }\n",
       "</style>\n",
       "<table border=\"1\" class=\"dataframe\">\n",
       "  <thead>\n",
       "    <tr style=\"text-align: right;\">\n",
       "      <th></th>\n",
       "      <th>link</th>\n",
       "      <th>headline</th>\n",
       "      <th>category</th>\n",
       "      <th>short_description</th>\n",
       "      <th>authors</th>\n",
       "      <th>date</th>\n",
       "    </tr>\n",
       "  </thead>\n",
       "  <tbody>\n",
       "    <tr>\n",
       "      <th>0</th>\n",
       "      <td>https://www.huffpost.com/entry/covid-boosters-...</td>\n",
       "      <td>Over 4 Million Americans Roll Up Sleeves For O...</td>\n",
       "      <td>U.S. NEWS</td>\n",
       "      <td>Health experts said it is too early to predict...</td>\n",
       "      <td>Carla K. Johnson, AP</td>\n",
       "      <td>2022-09-23</td>\n",
       "    </tr>\n",
       "    <tr>\n",
       "      <th>1</th>\n",
       "      <td>https://www.huffpost.com/entry/american-airlin...</td>\n",
       "      <td>American Airlines Flyer Charged, Banned For Li...</td>\n",
       "      <td>U.S. NEWS</td>\n",
       "      <td>He was subdued by passengers and crew when he ...</td>\n",
       "      <td>Mary Papenfuss</td>\n",
       "      <td>2022-09-23</td>\n",
       "    </tr>\n",
       "  </tbody>\n",
       "</table>\n",
       "</div>"
      ],
      "text/plain": [
       "                                                link  \\\n",
       "0  https://www.huffpost.com/entry/covid-boosters-...   \n",
       "1  https://www.huffpost.com/entry/american-airlin...   \n",
       "\n",
       "                                            headline   category  \\\n",
       "0  Over 4 Million Americans Roll Up Sleeves For O...  U.S. NEWS   \n",
       "1  American Airlines Flyer Charged, Banned For Li...  U.S. NEWS   \n",
       "\n",
       "                                   short_description               authors  \\\n",
       "0  Health experts said it is too early to predict...  Carla K. Johnson, AP   \n",
       "1  He was subdued by passengers and crew when he ...        Mary Papenfuss   \n",
       "\n",
       "        date  \n",
       "0 2022-09-23  \n",
       "1 2022-09-23  "
      ]
     },
     "execution_count": 11,
     "metadata": {},
     "output_type": "execute_result"
    }
   ],
   "source": [
    "df=pd.read_json(r\"C:\\Users\\Prateek\\Downloads\\News_Category_Dataset_v3.json\",lines=True)\n",
    "df.head(2)"
   ]
  },
  {
   "cell_type": "code",
   "execution_count": 22,
   "id": "194530b6",
   "metadata": {},
   "outputs": [],
   "source": [
    "# select the relavent columns\n",
    "\n",
    "data = df[['category', 'headline','short_description']]"
   ]
  },
  {
   "cell_type": "code",
   "execution_count": 23,
   "id": "c0f24955",
   "metadata": {},
   "outputs": [],
   "source": [
    "# preprocess the data\n",
    "\n",
    "data['text'] = data['headline'] + ' ' +data['short_description']\n"
   ]
  },
  {
   "cell_type": "code",
   "execution_count": 24,
   "id": "1c025753",
   "metadata": {},
   "outputs": [],
   "source": [
    "# Vectorize the text data\n",
    "vectorizer = TfidfVectorizer()\n",
    "X = vectorizer.fit_transform(data['text'])"
   ]
  },
  {
   "cell_type": "code",
   "execution_count": 25,
   "id": "f9a1d1b2",
   "metadata": {},
   "outputs": [],
   "source": [
    "# Function to find the most similar data using different similarity algorithms\n",
    "def find_similar_data(query, top_n=5):\n",
    "    # Vectorize the query\n",
    "    query_vector = vectorizer.transform([query])\n",
    "\n",
    "    # Calculate similarities using different algorithms\n",
    "    cosine_sim = cosine_similarity(X, query_vector).flatten()\n",
    "    euclidean_sim = euclidean_distances(X, query_vector).flatten()\n",
    "    manhattan_sim = manhattan_distances(X, query_vector).flatten()\n",
    "\n",
    "\n",
    "    # Combine similarities from different algorithms\n",
    "    similarity_scores = (cosine_sim + euclidean_sim + manhattan_sim ) / 4\n",
    "\n",
    "    # Find the indices of top similar data points\n",
    "    top_indices = similarity_scores.argsort()[-top_n:][::-1]\n",
    "\n",
    "    # Return the top similar data points\n",
    "    similar_data = data.iloc[top_indices]\n",
    "\n",
    "    return similar_data\n"
   ]
  },
  {
   "cell_type": "code",
   "execution_count": 26,
   "id": "ba670b3e",
   "metadata": {},
   "outputs": [
    {
     "name": "stdout",
     "output_type": "stream",
     "text": [
      "         category                          headline  \\\n",
      "109802  WORLDPOST  Weekend Roundup: Laughing at God   \n",
      "66816    POLITICS                    Sunday Roundup   \n",
      "63109    POLITICS                    Sunday Roundup   \n",
      "107893   POLITICS                    Sunday Roundup   \n",
      "64398    POLITICS                    Sunday Roundup   \n",
      "\n",
      "                                        short_description  \\\n",
      "109802  The first principle of an open society is not ...   \n",
      "66816   This week the nation watched as the #NeverTrum...   \n",
      "63109   This week, the nation was reminded, in ways bo...   \n",
      "107893  This week began with \"The Horrible Call\" final...   \n",
      "64398   This week started off with the horror in Orlan...   \n",
      "\n",
      "                                                     text  \n",
      "109802  Weekend Roundup: Laughing at God The first pri...  \n",
      "66816   Sunday Roundup This week the nation watched as...  \n",
      "63109   Sunday Roundup This week, the nation was remin...  \n",
      "107893  Sunday Roundup This week began with \"The Horri...  \n",
      "64398   Sunday Roundup This week started off with the ...  \n"
     ]
    }
   ],
   "source": [
    "# Example usage\n",
    "query = \"New research on climate change\"\n",
    "similar_data = find_similar_data(query)\n",
    "print(similar_data)"
   ]
  },
  {
   "cell_type": "code",
   "execution_count": null,
   "id": "88c30639",
   "metadata": {},
   "outputs": [],
   "source": []
  }
 ],
 "metadata": {
  "kernelspec": {
   "display_name": "Python 3 (ipykernel)",
   "language": "python",
   "name": "python3"
  },
  "language_info": {
   "codemirror_mode": {
    "name": "ipython",
    "version": 3
   },
   "file_extension": ".py",
   "mimetype": "text/x-python",
   "name": "python",
   "nbconvert_exporter": "python",
   "pygments_lexer": "ipython3",
   "version": "3.10.9"
  }
 },
 "nbformat": 4,
 "nbformat_minor": 5
}
